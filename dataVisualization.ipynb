{
 "cells": [
  {
   "cell_type": "markdown",
   "metadata": {},
   "source": [
    "# ASU Student/Faculty Bedtime Data Analysis\n",
    "---\n",
    "According to the [National Institute of Neurological Disorders and Stroke](https://www.ninds.nih.gov/Disorders/Patient-Caregiver-Education/Understanding-Sleep#4), \"sleep patterns change as you age\", and \"varies significantly across individuals of the same age\". Keeping this in mind, it is interesting to understand what times many people at ASU, whether students or faculty, go to bed at night.  \n",
    "Though these statistics and findings don't incorporate what time people are waking up, it is interesting to note what time they are 'attempting' to fall alseep.  \n",
    "\n",
    "A survey asking the simple question, \"During which time frame do you usually go to bed? (Attempt to fall asleep. No devices or interference.)\" was conducted earlier this month (October 2021). Below are the results of this survey."
   ]
  },
  {
   "cell_type": "code",
   "execution_count": 281,
   "metadata": {},
   "outputs": [
    {
     "data": {
      "text/html": [
       "<div>\n",
       "<style scoped>\n",
       "    .dataframe tbody tr th:only-of-type {\n",
       "        vertical-align: middle;\n",
       "    }\n",
       "\n",
       "    .dataframe tbody tr th {\n",
       "        vertical-align: top;\n",
       "    }\n",
       "\n",
       "    .dataframe thead th {\n",
       "        text-align: right;\n",
       "    }\n",
       "</style>\n",
       "<table border=\"1\" class=\"dataframe\">\n",
       "  <thead>\n",
       "    <tr style=\"text-align: right;\">\n",
       "      <th></th>\n",
       "      <th>Timestamp</th>\n",
       "      <th>Bedtime</th>\n",
       "      <th>StartTime</th>\n",
       "      <th>StartRange</th>\n",
       "    </tr>\n",
       "  </thead>\n",
       "  <tbody>\n",
       "    <tr>\n",
       "      <th>0</th>\n",
       "      <td>2021,0.5/10/20 12:58:14 PM MDT</td>\n",
       "      <td>9:00PM-9:29PM</td>\n",
       "      <td>21.0</td>\n",
       "      <td>1.0</td>\n",
       "    </tr>\n",
       "    <tr>\n",
       "      <th>1</th>\n",
       "      <td>2021,0.5/10/20 1:01:50 PM MDT</td>\n",
       "      <td>2:30AM-2:59AM</td>\n",
       "      <td>2.5</td>\n",
       "      <td>6.5</td>\n",
       "    </tr>\n",
       "    <tr>\n",
       "      <th>2</th>\n",
       "      <td>2021,0.5/10/20 1:02:50 PM MDT</td>\n",
       "      <td>10:30PM-10:59PM</td>\n",
       "      <td>22.5</td>\n",
       "      <td>2.5</td>\n",
       "    </tr>\n",
       "    <tr>\n",
       "      <th>3</th>\n",
       "      <td>2021,0.5/10/20 1:08:11 PM MDT</td>\n",
       "      <td>10:30PM-10:59PM</td>\n",
       "      <td>22.5</td>\n",
       "      <td>2.5</td>\n",
       "    </tr>\n",
       "    <tr>\n",
       "      <th>4</th>\n",
       "      <td>2021,0.5/10/20 1:17:36 PM MDT</td>\n",
       "      <td>1:00AM-1:29AM</td>\n",
       "      <td>1.0</td>\n",
       "      <td>5.0</td>\n",
       "    </tr>\n",
       "    <tr>\n",
       "      <th>...</th>\n",
       "      <td>...</td>\n",
       "      <td>...</td>\n",
       "      <td>...</td>\n",
       "      <td>...</td>\n",
       "    </tr>\n",
       "    <tr>\n",
       "      <th>148</th>\n",
       "      <td>2021,0.5/10/21,0.5 9:15:45 PM MDT</td>\n",
       "      <td>1:00AM-1:29AM</td>\n",
       "      <td>1.0</td>\n",
       "      <td>5.0</td>\n",
       "    </tr>\n",
       "    <tr>\n",
       "      <th>149</th>\n",
       "      <td>2021,0.5/10/21,0.5 11:02:05 PM MDT</td>\n",
       "      <td>12:00AM-12:29AM</td>\n",
       "      <td>0.0</td>\n",
       "      <td>4.0</td>\n",
       "    </tr>\n",
       "    <tr>\n",
       "      <th>150</th>\n",
       "      <td>2021,0.5/10/22 9:14:28 AM MDT</td>\n",
       "      <td>9:30PM-9:59PM</td>\n",
       "      <td>21.5</td>\n",
       "      <td>1.5</td>\n",
       "    </tr>\n",
       "    <tr>\n",
       "      <th>151</th>\n",
       "      <td>2021,0.5/10/23 12:56:23 PM MDT</td>\n",
       "      <td>11:00PM-11:29PM</td>\n",
       "      <td>23.0</td>\n",
       "      <td>3.0</td>\n",
       "    </tr>\n",
       "    <tr>\n",
       "      <th>152</th>\n",
       "      <td>2021,0.5/10/23 6:56:12 PM MDT</td>\n",
       "      <td>3:00AM-3:29AM</td>\n",
       "      <td>3.0</td>\n",
       "      <td>6.0</td>\n",
       "    </tr>\n",
       "  </tbody>\n",
       "</table>\n",
       "<p>153 rows × 4 columns</p>\n",
       "</div>"
      ],
      "text/plain": [
       "                              Timestamp          Bedtime  StartTime  \\\n",
       "0        2021,0.5/10/20 12:58:14 PM MDT    9:00PM-9:29PM       21.0   \n",
       "1         2021,0.5/10/20 1:01:50 PM MDT    2:30AM-2:59AM        2.5   \n",
       "2         2021,0.5/10/20 1:02:50 PM MDT  10:30PM-10:59PM       22.5   \n",
       "3         2021,0.5/10/20 1:08:11 PM MDT  10:30PM-10:59PM       22.5   \n",
       "4         2021,0.5/10/20 1:17:36 PM MDT    1:00AM-1:29AM        1.0   \n",
       "..                                  ...              ...        ...   \n",
       "148   2021,0.5/10/21,0.5 9:15:45 PM MDT    1:00AM-1:29AM        1.0   \n",
       "149  2021,0.5/10/21,0.5 11:02:05 PM MDT  12:00AM-12:29AM        0.0   \n",
       "150       2021,0.5/10/22 9:14:28 AM MDT    9:30PM-9:59PM       21.5   \n",
       "151      2021,0.5/10/23 12:56:23 PM MDT  11:00PM-11:29PM       23.0   \n",
       "152       2021,0.5/10/23 6:56:12 PM MDT    3:00AM-3:29AM        3.0   \n",
       "\n",
       "     StartRange  \n",
       "0           1.0  \n",
       "1           6.5  \n",
       "2           2.5  \n",
       "3           2.5  \n",
       "4           5.0  \n",
       "..          ...  \n",
       "148         5.0  \n",
       "149         4.0  \n",
       "150         1.5  \n",
       "151         3.0  \n",
       "152         6.0  \n",
       "\n",
       "[153 rows x 4 columns]"
      ]
     },
     "execution_count": 281,
     "metadata": {},
     "output_type": "execute_result"
    }
   ],
   "source": [
    "import pandas as pd\n",
    "from pandas import DataFrame\n",
    "\n",
    "#import sleep data analysis\n",
    "df_sleep = pd.read_csv('BedtimeStats.csv', header='infer')\n",
    "df_sleep.head()\n",
    "\n",
    "df_sleep"
   ]
  },
  {
   "cell_type": "markdown",
   "metadata": {},
   "source": [
    "These are the general results of this survey showing a response total population of 153. The index of responses begins at 0 and collects the time the survey was submitted as well as the bedtime response.  \n",
    "\n",
    "A simple count of the statistics shows that out of 153 respondants:  \n",
    "\n",
    "* 19 said they went to bed between the hours of 11:30PM-11:59PM\n",
    "* 16 said they went to bed between the hours of 12:00AM-12:29AM\n",
    "* 15 said they went to bed between the hours of 10:30PM-10:59PM\n",
    "* 15 said they went to bed between the hours of 1:00AM-1:29AM\n",
    "* 15 said they went to bed between the hours of 2:00AM-2:29AM\n",
    "* 14 said they went to bed between the hours of 10:00PM-10:29PM\n",
    "* 14 said they went to bed between the hours of 12:30AM-12:59AM\n",
    "* 13 said they went to bed between the hours of 11:00PM-11:29PM\n",
    "* 11 said they went to bed between the hours of 12:30AM-12:59AM\n",
    "* 11 said they went to bed between the hours of 1:30AM-1:59AM\n",
    "* 6 said they went to bed between the hours of 2:30AM-2:59AM\n",
    "* 5 said they went to bed between the hours of 9:30PM-9:59PM\n",
    "* 5 said they went to bed between the hours of 3:00AM-3:29AM\n",
    "* 4 said they went to bed between the hours of 9:00PM-9:29PM\n",
    "* 2 said they went to bed between the hours of 3:30AM-3:59AM\n",
    "* 1 said they went to bed between the hours of 8:30PM-8:59PM\n",
    "* 1 said they went to bed between the hours of 4:00AM-4:30AM\n"
   ]
  },
  {
   "cell_type": "markdown",
   "metadata": {},
   "source": [
    "## General Analysis\n",
    "---\n",
    "It is important to note both the mean and median of this data set. The mean (average) will tell us what time from the general population most people go to bed. The median will give us a good center of the dataset.  \n",
    "\n",
    "When used against the mean, an idea of the statistical distribution is made.\n",
    "\n",
    "In addition to these two data points, the standard deviation and variance of the data set will be analyzed.\n",
    "\n",
    "Rather than analyzing the timeframe in which people attempted to sleep we will use the beginning/start time of their attempt to sleep. For example, someone attempting to sleep between 9:00PM and 9:30PM will be analyzed as beginning at 9:00AM. This will be changed in the final documentation and only used within the analysis.  \n",
    "* In addition to this StartTime, the times will be used in the 24-hour military time notation\n",
    "\n",
    "\n",
    "## Separated Start Time Range\n",
    "To find the average time that people go to bed at night, a derived statistic was made from the results. This statistic is found in the fourth column and begins at a time 8:00PM. This time corresponds to the value of 0 and the time of 4:00AM corresponds to the final value of 8 which is the last half hour increment. \n",
    "\n",
    "By finding the mean of these values, the true average time of responses can be found. This mean value can then be translated into an understandable time.\n",
    "\n",
    "### Test Value Statistics\n",
    "1. Population Mean\n",
    "2. Population Median\n",
    "3. Population Standard Deviation\n",
    "4. Population Variance"
   ]
  },
  {
   "cell_type": "code",
   "execution_count": 282,
   "metadata": {},
   "outputs": [
    {
     "name": "stdout",
     "output_type": "stream",
     "text": [
      "Mean (µ) Bedtime Start: 4.007\n",
      "Median Bedtime Start: 4.000\n",
      "Standard Deviation of Bedtimes: 1.583\n",
      "Variance of Starting Bedtimes: 2.507\n"
     ]
    }
   ],
   "source": [
    "#get mean sleep time\n",
    "mean_sleepTimeIncrement = df_sleep.StartRange.mean()\n",
    "\n",
    "#get median sleep time\n",
    "median_sleepTimeIncrement = df_sleep.StartRange.median()\n",
    "\n",
    "#calculate sdeviation of bedtimes\n",
    "std_sleepTimeIncrement = df_sleep.StartRange.std()\n",
    "\n",
    "print('Mean (µ) Bedtime Start: {:.3f}'.format(mean_sleepTimeIncrement))\n",
    "print('Median Bedtime Start: {:.3f}'.format(median_sleepTimeIncrement))\n",
    "print('Standard Deviation of Bedtimes: {:.3f}'.format(std_sleepTimeIncrement))\n",
    "print('Variance of Starting Bedtimes: {:.3f}'.format(std_sleepTimeIncrement * std_sleepTimeIncrement))\n"
   ]
  },
  {
   "cell_type": "markdown",
   "metadata": {},
   "source": [
    "### Analysis of Values\n",
    "The calculated values above are the results of the total population analysis. As mentioned previously, a time of 8:00PM corresponds with a value of 0 with each 0.1 increment being equal to 6 minutes (1/10 of one hour).  \n",
    "\n",
    "Therefore, the mean time that the population went to bed was 12AM and ≅ 0 minutes (0.42 minutes).  \n",
    "The median starting bedtime is 12:00AM.    \n",
    "The standard deviation of starting bedtimes is ≅ 1 hour and 35 minutes (34.98 minutes).   \n",
    "The variance of starting bedtimes is ≅ 2 hours and 30 minutes (30.42 minutes).  "
   ]
  },
  {
   "cell_type": "markdown",
   "metadata": {},
   "source": [
    "## Data Visualization\n",
    "---\n",
    "This data will be easy to represent using a bar chart as it allows the data to be viewed in a more understandable matter and certain characteristics can be noticed.  \n",
    "Any outliers, skewed distributions and abnormalities are easier to notice with a graphical representation.  \n",
    "\n",
    "The amount of bins that are used is calculated from the sqare root of the population size containing 153 responses.  \n",
    "The axis of the bar graph will contain the range of bedtimes on the x-axis and the amount of people going to bed at a certain time on the y-axis. "
   ]
  },
  {
   "cell_type": "code",
   "execution_count": 283,
   "metadata": {},
   "outputs": [
    {
     "data": {
      "image/png": "[encoded data removed]",
      "text/plain": [
       "<Figure size 432x288 with 1 Axes>"
      ]
     },
     "metadata": {
      "needs_background": "light"
     },
     "output_type": "display_data"
    }
   ],
   "source": [
    "import math\n",
    "\n",
    "#calculate the amount of bins\n",
    "bins = math.ceil(math.sqrt(153))\n",
    "time_range = [\"8:00PM\",\"8:30PM\", \"9:00PM\", \"9:30PM\", \"10:00PM\", \"10:30PM\", \"11:00PM\", \"11:30PM\", \"12:00AM\", \"12:30AM\", \"1:00AM\", \"1:30AM\", \"2:00AM\", \"2:30AM\", \"3:00AM\", \"3:30AM\", \"4:00AM\"]\n",
    "occurences = [0, 1, 4, 5, 14, 15, 13, 19, 16, 11, 15, 11, 15, 6, 5, 2, 1]\n",
    "\n",
    "\n",
    "#import for visualization\n",
    "import matplotlib\n",
    "\n",
    "#display plot from notebook\n",
    "%matplotlib inline\n",
    "\n",
    "#import plot from matplotlib\n",
    "from matplotlib import pyplot as plt\n",
    "\n",
    "#create bar graph\n",
    "plt.bar(x=time_range, height=occurences, color='blue')\n",
    "\n",
    "#customize chart\n",
    "plt.title('Common ASU Bedtimes')\n",
    "plt.xlabel('Start Time')\n",
    "plt.ylabel('Amount of People')\n",
    "plt.grid(color=\"#000000\", linestyle='--', linewidth=1, axis='y', alpha=0.7)\n",
    "plt.xticks(rotation=90)\n",
    "\n",
    "#display plot\n",
    "plt.show()"
   ]
  },
  {
   "cell_type": "markdown",
   "metadata": {},
   "source": [
    "## Sample Point Estimation\n",
    "---\n",
    "In addition to analyzing the whole population, it may prove useful to anaylze certain small populations.  \n",
    "\n",
    "30 point estimates from the sample mean have been made all with the sample size of n = 5 samples.  \n",
    "\n",
    "This means the data given must be handled into 30 separate sample means all containing 5 elements. The function for this sample mean will be the 5 elements added in the numerator over the sample population of 5. \n",
    "\n",
    "[(x1 + x2 + x3 + x4 + x5) / 5]"
   ]
  },
  {
   "cell_type": "code",
   "execution_count": 284,
   "metadata": {},
   "outputs": [
    {
     "name": "stdout",
     "output_type": "stream",
     "text": [
      "The readable sample bedtimes are as follows: \n",
      "11.5, 11.3, 10.7, 11.6, 11.1, 11.9, 12.2, 11.2, 1.10, 12.4, 11.7, 11.3, 12.1, 11, 1.10, 11.1, 11.8, 12.2, 12.3, 11.6, 12.7, 12.4, 11.8, 11.6, 12.7, 12.9, 1.30, 12.4, 12.8, 12.7\n"
     ]
    }
   ],
   "source": [
    "#calculate 30 separate sample means each 5 apart\n",
    "sample_means = []\n",
    "graphable_means = []\n",
    "\n",
    "import decimal\n",
    "decimal.getcontext().prec = 3\n",
    "\n",
    "\n",
    "start = 0 #variable for restart sample means\n",
    "sampleSum = 0\n",
    "\n",
    "for i in range(0, 152):\n",
    "    sampleSum += df_sleep.StartRange.at[i]\n",
    "    start += 1\n",
    "\n",
    "    if (start == 5):\n",
    "        start = 0\n",
    "\n",
    "        small_sample = decimal.Decimal(sampleSum/5)\n",
    "        sample_means.append(small_sample)\n",
    "        graphable_means.append(small_sample)\n",
    "        sampleSum = 0\n",
    "        \n",
    "\n",
    "print(\"The readable sample bedtimes are as follows: \")\n",
    "\n",
    "#convert sample means to readable times\n",
    "for i in range(0, len(sample_means)):\n",
    "    #convert all times less than 1am to their respective hour frame\n",
    "    if (sample_means[i] <= 4.99):\n",
    "        sample_means[i] += 8\n",
    "    else:\n",
    "        sample_means[i] -= decimal.Decimal(4.0)\n",
    "        \n",
    "    \n",
    "    if (i != len(sample_means)- 1):\n",
    "        print(sample_means[i], end=\", \")\n",
    "\n",
    "    else:\n",
    "        print(sample_means[i])\n"
   ]
  },
  {
   "cell_type": "markdown",
   "metadata": {},
   "source": [
    "The above data shows, out of 30 samples, the average bed times. The integer digits before the decimal represent which hour the person went to bed. These values are represented within the 12-hour time frame. Any integer that is greater than 11 is represented as an AM time and the integers 10 and 11 are in the PM time frame.  \n",
    "\n",
    "Additionally, the decimal remainders of these digits correspond to the fraction of an hour at which the average from this group went to bed. Out of these 30 groups, these are the average bedtimes.  \n",
    "\n",
    "1. 11:30PM\n",
    "2. 11:18PM\n",
    "3. 10:42PM\n",
    "4. 11:36PM\n",
    "5. 11:06PM\n",
    "6. 11:54PM\n",
    "7. 12:12AM\n",
    "8. 11:12AM\n",
    "9. 1:06AM\n",
    "10. 12:24AM\n",
    "11. 11:42PM\n",
    "12. 11:18PM\n",
    "13. 12:06AM\n",
    "14. 11:00AM\n",
    "15. 1:06AM\n",
    "16. 11:06PM\n",
    "17. 11:48PM\n",
    "18. 12:12AM\n",
    "19. 12:18AM\n",
    "20. 11:36PM\n",
    "21. 12:42AM\n",
    "22. 12:24AM\n",
    "23. 11:48PM\n",
    "24. 11:36PM\n",
    "25. 12:42AM\n",
    "26. 12:54AM\n",
    "27. 1:18AM\n",
    "28. 12:24AM\n",
    "29. 12:48AM\n",
    "30. 12:42AM\n",
    "\n",
    "## Sample Graphical Analysis\n",
    "---\n",
    "In addition to looking at the visualization of the total population, it is beneficial to compare this to the point estimate data.\n",
    "The first graph contains the point sample visualization and below that will be the population histogram as well. \n",
    "\n",
    "The bins are represented in half hour intervals. This means that all values are going to be rounded down to the lower time value. This means if an average time to go to bed for a point sample was 10:24PM, this group will be represented as 10:00PM.  \n",
    "\n",
    "\n",
    "Take notice of their similarities, differences and any conclusions that can be made about the data."
   ]
  },
  {
   "cell_type": "code",
   "execution_count": 285,
   "metadata": {},
   "outputs": [
    {
     "data": {
      "image/png": "[encoded data removed]",
      "text/plain": [
       "<Figure size 432x288 with 1 Axes>"
      ]
     },
     "metadata": {
      "needs_background": "dark"
     },
     "output_type": "display_data"
    },
    {
     "data": {
      "text/plain": [
       "<Figure size 1440x1440 with 0 Axes>"
      ]
     },
     "metadata": {},
     "output_type": "display_data"
    },
    {
     "data": {
      "image/png": "[encoded data removed]",
      "text/plain": [
       "<Figure size 432x288 with 1 Axes>"
      ]
     },
     "metadata": {
      "needs_background": "dark"
     },
     "output_type": "display_data"
    },
    {
     "data": {
      "text/plain": [
       "<Figure size 1440x1440 with 0 Axes>"
      ]
     },
     "metadata": {},
     "output_type": "display_data"
    }
   ],
   "source": [
    "import numpy as np\n",
    "import warnings\n",
    "\n",
    "#remove unwanted warnings, using old depricated methods\n",
    "warnings.filterwarnings('ignore')\n",
    "\n",
    "# Point sample histograms\n",
    "# Due to the small range of times that can be used, the amount of bins of the histogram will be represented by our range x 2.\n",
    "# Each integer value of the range consists of one hour and multiplying this by two will introduce the half our time frame\n",
    "sample_bins = max(df_sleep.StartRange) - min(df_sleep.StartRange)\n",
    "sample_bins *= 2\n",
    "\n",
    "# sample_means are the values that are going to be used in this analysis\n",
    "\n",
    "plt.hist(graphable_means, edgecolor='black', )\n",
    "plt.title('Point Sample Average Bedtimes', color='white')\n",
    "plt.xlabel('Bedtime Hour', color='white')\n",
    "plt.ylabel('Total Groups', color='white')\n",
    "plt.yticks(color='white')\n",
    "\n",
    "#create point sample ticks\n",
    "point_sample_ticks = [\"10:30PM\", \"10:45PM\", \"11:00PM\", \"11:15PM\", \"11:30PM\", \"11:45PM\", \"12:00AM\", \"12:15AM\", \"12:30AM\", \"12:45AM\", \"1:00AM\", \"1:15AM\", \"1:30AM\"]\n",
    "\n",
    "#function used to add ticks\n",
    "plt.xticks(list(plt.xticks()[0]) + [2.75, 3.25, 3.75, 4.25, 4.75, 5.25], color='white')\n",
    "plt.xticks(rotation=60, color='white')\n",
    "\n",
    "plt.axes().tick_params(axis='x', colors='white')\n",
    "plt.axes().tick_params(axis='y', colors='white')\n",
    "\n",
    "plt.axes().set_xticklabels(point_sample_ticks)\n",
    "\n",
    "plt.savefig(\"pointSample.png\")\n",
    "\n",
    "plt.figure(figsize=(20, 20))\n",
    "\n",
    "plt.show()\n",
    "\n",
    "plt.hist(df_sleep.StartRange, edgecolor='black')\n",
    "plt.title('Population Bedtimes', color='white')\n",
    "plt.xlabel('Bedtime Hour (24-hour)', color='white')\n",
    "plt.ylabel('Total People', color='white')\n",
    "\n",
    "population_ticks = [\"8:00PM\", \"9:00PM\", \"10:00PM\", \"11:00PM\", \"12:00AM\", \"1:00AM\", \"2:00AM\", \"3:00AM\", \"4:00AM\", \"5:00AM\", \"8:30PM\", \"9:30PM\", \"10:30PM\", \"11:30PM\", \"12:30AM\", \"1:30AM\", \"2:30AM\", \"3:30AM\", \"4:30AM\"]\n",
    "\n",
    "#plot extra ticks\n",
    "plt.xticks(list(plt.xticks()[0]) + [0.5, 1.5, 2.5, 3.5, 4.5, 5.5, 6.5, 7.5, 8.5])\n",
    "plt.xticks(rotation=60, color='white')\n",
    "plt.axes().set_facecolor(\"white\")\n",
    "plt.yticks(color='white')\n",
    "\n",
    "plt.axes().set_xticklabels(population_ticks)\n",
    "\n",
    "plt.axes().tick_params(axis='x', colors='white')\n",
    "plt.axes().tick_params(axis='y', colors='white')\n",
    "\n",
    "\n",
    "plt.savefig(\"populationHist.png\")\n",
    "plt.figure(figsize=(20, 20))\n",
    "\n",
    "plt.show()"
   ]
  }
 ],
 "metadata": {
  "interpreter": {
   "hash": "b0fa6594d8f4cbf19f97940f81e996739fb7646882a419484c72d19e05852a7e"
  },
  "kernelspec": {
   "display_name": "Python 3.9.7 64-bit",
   "language": "python",
   "name": "python3"
  },
  "language_info": {
   "codemirror_mode": {
    "name": "ipython",
    "version": 3
   },
   "file_extension": ".py",
   "mimetype": "text/x-python",
   "name": "python",
   "nbconvert_exporter": "python",
   "pygments_lexer": "ipython3",
   "version": "3.8.8"
  },
  "orig_nbformat": 4
 },
 "nbformat": 4,
 "nbformat_minor": 2
}
